{
 "cells": [
  {
   "cell_type": "markdown",
   "metadata": {},
   "source": [
    "## Risk Legacy Battle Simulator Notebook\n",
    "\n",
    "This notebook provides examples on how to use the functions contained in the battle_simulator.py file."
   ]
  },
  {
   "cell_type": "code",
   "execution_count": 1,
   "metadata": {},
   "outputs": [],
   "source": [
    "from src import battle_simulator as bs\n",
    "default_modifiers={'attack1':0, 'attack2':0, 'defense1':0, 'defense2':0}"
   ]
  },
  {
   "cell_type": "markdown",
   "metadata": {},
   "source": [
    "#### Generic Battle Simulation\n",
    "\n",
    "This function allows you to simulate a battle to approximate the number of troops required to successfully take a territory under the given die roll modification rules. The code below shows an example where there is a modifier of +1 applied to the attacker's highest roll as well as +1 applied to the defender's highest roll."
   ]
  },
  {
   "cell_type": "code",
   "execution_count": 2,
   "metadata": {},
   "outputs": [
    {
     "data": {
      "text/plain": [
       "'You should expect to need 1.0547846688406288 attacking units for every defending unit in order to take this territory.'"
      ]
     },
     "execution_count": 2,
     "metadata": {},
     "output_type": "execute_result"
    }
   ],
   "source": [
    "bs.simulate_generic_battle(n_rolls=10**6, modifiers={'attack1':1, 'attack2':0, 'defense1':1, 'defense2':0})"
   ]
  },
  {
   "cell_type": "markdown",
   "metadata": {},
   "source": [
    "#### Simulate Specific Battles\n",
    "\n",
    "This function allows you to simulate a battle where you specify the number of attacking troops, the number of defending troops, and the modifiers to be applied in this battle. The code below shows the expected number of wins for the attacker and for the defender when we have 30 units attacking 20 units with the default roll modifiers (rolls aren't modified). The battle is repeated `n_sims` number of times."
   ]
  },
  {
   "cell_type": "code",
   "execution_count": 3,
   "metadata": {},
   "outputs": [
    {
     "data": {
      "text/plain": [
       "{'attacker': 9551, 'defender': 449}"
      ]
     },
     "execution_count": 3,
     "metadata": {},
     "output_type": "execute_result"
    }
   ],
   "source": [
    "bs.simulate_n_battles(30, 20, default_modifiers, n_sims=10**4)"
   ]
  },
  {
   "cell_type": "markdown",
   "metadata": {},
   "source": [
    "#### Simulate Series of Battles Along Path\n",
    "\n",
    "You win the game if you manage to conquer a series of territories on your turn, but should you risk it? The code below simulates a series of battles along a given path in order to determine the probability of success with the number of troops you have to attack with. The example below returns the probability of success for the given scenario:\n",
    "\n",
    "* 30 attacking units to start with\n",
    "* Need to conquer 3 territories in a row\n",
    "* First territory has 20 defending units and the default die modifiers (no modification)\n",
    "* Second territory has 10 defending units with default die modifiers\n",
    "* Third territory has 5 defending units with a modifier of +1 to both of the defender's dice\n",
    "* Simulate this series of battles 10,000 times\n",
    "\n",
    "The output tells us that under this scenario the attacker will win approximately 19.05% of the time."
   ]
  },
  {
   "cell_type": "code",
   "execution_count": 4,
   "metadata": {},
   "outputs": [
    {
     "data": {
      "text/plain": [
       "0.1905"
      ]
     },
     "execution_count": 4,
     "metadata": {},
     "output_type": "execute_result"
    }
   ],
   "source": [
    "path = [[20, default_modifiers], [10, default_modifiers], [5, {'attack1':0, 'attack2':0, 'defense1':1, 'defense2':1}]]\n",
    "bs.simulate_battles_along_path(n_attackers=30, path=path, n_sims=10**4)"
   ]
  }
 ],
 "metadata": {
  "kernelspec": {
   "display_name": "Python [default]",
   "language": "python",
   "name": "python3"
  },
  "language_info": {
   "codemirror_mode": {
    "name": "ipython",
    "version": 3
   },
   "file_extension": ".py",
   "mimetype": "text/x-python",
   "name": "python",
   "nbconvert_exporter": "python",
   "pygments_lexer": "ipython3",
   "version": "3.6.6"
  }
 },
 "nbformat": 4,
 "nbformat_minor": 2
}
