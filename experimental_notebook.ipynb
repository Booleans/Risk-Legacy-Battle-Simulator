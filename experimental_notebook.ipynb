{
 "cells": [
  {
   "cell_type": "code",
   "execution_count": 3,
   "metadata": {},
   "outputs": [],
   "source": [
    "import numpy as np"
   ]
  },
  {
   "cell_type": "code",
   "execution_count": 4,
   "metadata": {},
   "outputs": [],
   "source": [
    "n_rolls = 10**7\n",
    "attack_rolls  = np.random.randint(1, 7, size=n_rolls*3).reshape(n_rolls,3)\n",
    "defense_rolls = np.random.randint(1, 7, size=n_rolls*2).reshape(n_rolls,2)"
   ]
  },
  {
   "cell_type": "code",
   "execution_count": 5,
   "metadata": {},
   "outputs": [],
   "source": [
    "defense_rolls.sort(axis=1)\n",
    "attack_rolls.sort(axis=1)"
   ]
  },
  {
   "cell_type": "code",
   "execution_count": 6,
   "metadata": {},
   "outputs": [],
   "source": [
    "mod_attack_1 = 0\n",
    "mod_attack_2 = 0\n",
    "mod_defense_1 = 1\n",
    "mod_defense_2 = 1\n",
    "\n",
    "# Rolls need to be modified but can only be a max value of 6.\n",
    "best_attack_rolls = np.minimum((attack_rolls[:,-1] + mod_attack_1), 6)\n",
    "second_best_attack_rolls = np.minimum((attack_rolls[:,-2] + mod_attack_2), 6)\n",
    "\n",
    "best_defense_rolls = np.minimum((defense_rolls[:,-1] + mod_defense_1), 6)\n",
    "second_best_defense_rolls = np.minimum((defense_rolls[:,-2] + mod_defense_2), 6)\n"
   ]
  },
  {
   "cell_type": "code",
   "execution_count": 7,
   "metadata": {},
   "outputs": [],
   "source": [
    "defenders_lost = (np.sum(best_attack_rolls > best_defense_rolls) +\n",
    "                  np.sum(second_best_attack_rolls > second_best_defense_rolls))\n",
    "\n",
    "attackers_lost = (np.sum(best_attack_rolls <= best_defense_rolls) +\n",
    "                  np.sum(second_best_attack_rolls <= second_best_defense_rolls))"
   ]
  },
  {
   "cell_type": "code",
   "execution_count": 8,
   "metadata": {},
   "outputs": [
    {
     "data": {
      "text/plain": [
       "1.8936503906066322"
      ]
     },
     "execution_count": 8,
     "metadata": {},
     "output_type": "execute_result"
    }
   ],
   "source": [
    "(defenders_lost/attackers_lost)**-1"
   ]
  },
  {
   "cell_type": "code",
   "execution_count": 9,
   "metadata": {},
   "outputs": [],
   "source": [
    "def simulate_single_battle(n_attackers=3, n_defenders=2,\n",
    "                           modifiers={'attack1':0, 'attack2':0, 'defense1':0, 'defense2':0}):\n",
    "    attackers_killed = 0\n",
    "    defenders_killed = 0\n",
    "    \n",
    "    attack_roll  = np.random.randint(1, 7, size=min(n_attackers, 3))\n",
    "    defense_roll = np.random.randint(1, 7, size=min(n_defenders, 2))\n",
    "\n",
    "    attack_roll.sort()\n",
    "    defense_roll.sort()\n",
    "    \n",
    "    modified_attack_roll1  = np.minimum((attack_roll[-1] + modifiers['attack1']), 6)\n",
    "    modified_defense_roll1 = np.minimum((defense_roll[-1] + modifiers['defense1']), 6)\n",
    "    \n",
    "    # Compare the highest roll of the attacker and defender.\n",
    "    if modified_attack_roll1 > modified_defense_roll1:\n",
    "        defenders_killed += 1\n",
    "    else:\n",
    "        attackers_killed += 1\n",
    "        \n",
    "    # Compare 2nd highest die rolls if both attacker and defender used more than one die.\n",
    "    if n_attackers > 1 and n_defenders > 1:\n",
    "        modified_attack_roll2 = np.minimum((attack_roll[-2] + modifiers['attack2']), 6)\n",
    "        modified_defense_roll2 = np.minimum((defense_roll[-2] + modifiers['defense2']), 6)\n",
    "        \n",
    "        if modified_attack_roll2 > modified_defense_roll2:\n",
    "            defenders_killed += 1\n",
    "        else:\n",
    "            attackers_killed += 1\n",
    "        \n",
    "    n_attackers_remaining = n_attackers - attackers_killed\n",
    "    n_defenders_remaining = n_defenders - defenders_killed\n",
    "        \n",
    "    return n_attackers_remaining, n_defenders_remaining"
   ]
  },
  {
   "cell_type": "code",
   "execution_count": 10,
   "metadata": {},
   "outputs": [
    {
     "data": {
      "text/plain": [
       "(13, 10)"
      ]
     },
     "execution_count": 10,
     "metadata": {},
     "output_type": "execute_result"
    }
   ],
   "source": [
    "simulate_single_battle(15, 10)"
   ]
  },
  {
   "cell_type": "code",
   "execution_count": 11,
   "metadata": {},
   "outputs": [
    {
     "data": {
      "text/plain": [
       "{'attacker': 6, 'defender': 4}"
      ]
     },
     "execution_count": 11,
     "metadata": {},
     "output_type": "execute_result"
    }
   ],
   "source": [
    "wins = {'attacker':0, 'defender':0}\n",
    "\n",
    "for _ in range(10):\n",
    "\n",
    "    n_attackers = 10\n",
    "    n_defenders = 10\n",
    "\n",
    "\n",
    "    while n_attackers > 0 and n_defenders > 0:\n",
    "        n_attackers, n_defenders = simulate_single_battle(n_attackers, n_defenders)\n",
    "\n",
    "    if n_attackers > 0:\n",
    "        wins['attacker'] += 1\n",
    "    else:\n",
    "        wins['defender'] += 1\n",
    "\n",
    "wins"
   ]
  },
  {
   "cell_type": "code",
   "execution_count": 12,
   "metadata": {},
   "outputs": [],
   "source": [
    "def simulate_n_battles(n_attackers, n_defenders, n_simulations):\n",
    "    wins = {'attacker':0, 'defender':0}\n",
    "    \n",
    "    for _ in range(n_simulations):\n",
    "        n_attack = n_attackers\n",
    "        n_defend = n_defenders\n",
    "        \n",
    "        while n_attack > 0 and n_defend > 0:\n",
    "            n_attack, n_defend = simulate_single_battle(n_attack, n_defend)\n",
    "\n",
    "        if n_attack > 0:\n",
    "            wins['attacker'] += 1\n",
    "        else:\n",
    "            wins['defender'] += 1\n",
    "    \n",
    "    return wins"
   ]
  },
  {
   "cell_type": "code",
   "execution_count": 13,
   "metadata": {},
   "outputs": [
    {
     "data": {
      "text/plain": [
       "{'attacker': 9876, 'defender': 124}"
      ]
     },
     "execution_count": 13,
     "metadata": {},
     "output_type": "execute_result"
    }
   ],
   "source": [
    "simulate_n_battles(35, 20, 10**4)"
   ]
  },
  {
   "cell_type": "code",
   "execution_count": 106,
   "metadata": {},
   "outputs": [],
   "source": [
    "x = np.array([1,2,5])\n",
    "y = np.array([2,3,4])"
   ]
  },
  {
   "cell_type": "code",
   "execution_count": 107,
   "metadata": {},
   "outputs": [],
   "source": [
    "import random"
   ]
  },
  {
   "cell_type": "code",
   "execution_count": 108,
   "metadata": {},
   "outputs": [],
   "source": [
    "for i in range(0):\n",
    "    print(i)"
   ]
  },
  {
   "cell_type": "code",
   "execution_count": 109,
   "metadata": {},
   "outputs": [
    {
     "name": "stdout",
     "output_type": "stream",
     "text": [
      "0.5003\n"
     ]
    }
   ],
   "source": [
    "# .25 - 0\n",
    "# .25 - 1\n",
    "# .50 - 2\n",
    "n_trials = 10000\n",
    "successes = 0\n",
    "\n",
    "for _ in range(n_trials):\n",
    "    amoebas = [1]\n",
    "    n_iterations = 0\n",
    "    while amoebas and n_iterations < 1000:\n",
    "        n_iterations += 1\n",
    "        amoebas.pop()\n",
    "        for _ in range(generate_children()):\n",
    "            amoebas.append(1)\n",
    "            \n",
    "    if amoebas:\n",
    "        successes += 1\n",
    "\n",
    "print((n_trials - successes)/n_trials)"
   ]
  },
  {
   "cell_type": "code",
   "execution_count": 110,
   "metadata": {},
   "outputs": [],
   "source": [
    "def generate_children():\n",
    "    num = random.random()\n",
    "    if num <= .25:\n",
    "        children = 0\n",
    "    elif num <= .50:\n",
    "        children = 1\n",
    "    else:\n",
    "        children = 2\n",
    "    return children"
   ]
  },
  {
   "cell_type": "code",
   "execution_count": 111,
   "metadata": {},
   "outputs": [
    {
     "data": {
      "text/plain": [
       "2"
      ]
     },
     "execution_count": 111,
     "metadata": {},
     "output_type": "execute_result"
    }
   ],
   "source": [
    "generate_children()"
   ]
  },
  {
   "cell_type": "code",
   "execution_count": null,
   "metadata": {},
   "outputs": [],
   "source": []
  },
  {
   "cell_type": "code",
   "execution_count": null,
   "metadata": {},
   "outputs": [],
   "source": []
  },
  {
   "cell_type": "code",
   "execution_count": null,
   "metadata": {},
   "outputs": [],
   "source": []
  }
 ],
 "metadata": {
  "kernelspec": {
   "display_name": "Python [default]",
   "language": "python",
   "name": "python3"
  },
  "language_info": {
   "codemirror_mode": {
    "name": "ipython",
    "version": 3
   },
   "file_extension": ".py",
   "mimetype": "text/x-python",
   "name": "python",
   "nbconvert_exporter": "python",
   "pygments_lexer": "ipython3",
   "version": "3.6.6"
  }
 },
 "nbformat": 4,
 "nbformat_minor": 2
}
