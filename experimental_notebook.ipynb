{
 "cells": [
  {
   "cell_type": "code",
   "execution_count": 129,
   "metadata": {},
   "outputs": [],
   "source": [
    "import numpy as np\n",
    "import seaborn as sns\n",
    "import matplotlib.pyplot as plt\n",
    "%matplotlib inline"
   ]
  },
  {
   "cell_type": "code",
   "execution_count": 2,
   "metadata": {},
   "outputs": [],
   "source": [
    "n_rolls = 10**7\n",
    "attack_rolls  = np.random.randint(1, 7, size=n_rolls*3).reshape(n_rolls,3)\n",
    "defense_rolls = np.random.randint(1, 7, size=n_rolls*2).reshape(n_rolls,2)"
   ]
  },
  {
   "cell_type": "code",
   "execution_count": 3,
   "metadata": {},
   "outputs": [],
   "source": [
    "defense_rolls.sort(axis=1)\n",
    "attack_rolls.sort(axis=1)"
   ]
  },
  {
   "cell_type": "code",
   "execution_count": 4,
   "metadata": {},
   "outputs": [],
   "source": [
    "mod_attack_1 = 0\n",
    "mod_attack_2 = 0\n",
    "mod_defense_1 = 1\n",
    "mod_defense_2 = 1\n",
    "\n",
    "# Rolls need to be modified but can only be a max value of 6.\n",
    "best_attack_rolls = np.minimum((attack_rolls[:,-1] + mod_attack_1), 6)\n",
    "second_best_attack_rolls = np.minimum((attack_rolls[:,-2] + mod_attack_2), 6)\n",
    "\n",
    "best_defense_rolls = np.minimum((defense_rolls[:,-1] + mod_defense_1), 6)\n",
    "second_best_defense_rolls = np.minimum((defense_rolls[:,-2] + mod_defense_2), 6)\n"
   ]
  },
  {
   "cell_type": "code",
   "execution_count": 5,
   "metadata": {},
   "outputs": [],
   "source": [
    "defenders_lost = (np.sum(best_attack_rolls > best_defense_rolls) +\n",
    "                  np.sum(second_best_attack_rolls > second_best_defense_rolls))\n",
    "\n",
    "attackers_lost = (np.sum(best_attack_rolls <= best_defense_rolls) +\n",
    "                  np.sum(second_best_attack_rolls <= second_best_defense_rolls))"
   ]
  },
  {
   "cell_type": "code",
   "execution_count": 6,
   "metadata": {},
   "outputs": [
    {
     "data": {
      "text/plain": [
       "1.8937638520858393"
      ]
     },
     "execution_count": 6,
     "metadata": {},
     "output_type": "execute_result"
    }
   ],
   "source": [
    "(defenders_lost/attackers_lost)**-1"
   ]
  },
  {
   "cell_type": "code",
   "execution_count": 7,
   "metadata": {},
   "outputs": [],
   "source": [
    "def simulate_single_battle(n_attackers=3, n_defenders=2, modifiers={'attack1':0, 'attack2':0, 'defense1':0, 'defense2':0}):\n",
    "    \"\"\"\n",
    "    Return the result of a single simulated battle in Risk Legacy. \n",
    "\n",
    "    Args:\n",
    "        n_attackers (int): The number of attacking troops (determines number of dice rolled).\n",
    "        n_defenders (int): The number of defending troops (determines number of dice rolled).\n",
    "        modifiers (dict of str: int): The modifiers to be applied to each die roll. Attack1 refers to the highest \n",
    "                                      die roll of the attacker while Attack2 is the second-highest. The same ordering \n",
    "                                      applies to the Defense1 and Defense2 keys in the modifier dict. \n",
    "\n",
    "    Returns:\n",
    "        (int, int): A tuple containing the number of attacking troops remaining and defending troops remaining.\n",
    "    \"\"\"\n",
    "    attackers_killed = 0\n",
    "    defenders_killed = 0\n",
    "    \n",
    "    attack_roll  = np.random.randint(1, 7, size=min(n_attackers, 3))\n",
    "    defense_roll = np.random.randint(1, 7, size=min(n_defenders, 2))\n",
    "\n",
    "    # Sorting rolls allows us to easily find highest and second-highest rolls.\n",
    "    attack_roll.sort()\n",
    "    defense_roll.sort()\n",
    "    \n",
    "    # Need to apply modifiers to die rolls while keeping the max roll value at 6.\n",
    "    modified_attack_roll1  = np.minimum((attack_roll[-1] + modifiers['attack1']), 6)\n",
    "    modified_defense_roll1 = np.minimum((defense_roll[-1] + modifiers['defense1']), 6)\n",
    "    \n",
    "    # Compare the highest roll of the attacker and defender. Defender wins ties.\n",
    "    if modified_attack_roll1 > modified_defense_roll1:\n",
    "        defenders_killed += 1\n",
    "    else:\n",
    "        attackers_killed += 1\n",
    "        \n",
    "    # Compare 2nd highest die rolls if both attacker and defender used more than one die.\n",
    "    if n_attackers > 1 and n_defenders > 1:\n",
    "        # Only need to modify second highest rolls if we have at least 2 attacking and defending units.\n",
    "        modified_attack_roll2 = np.minimum((attack_roll[-2] + modifiers['attack2']), 6)\n",
    "        modified_defense_roll2 = np.minimum((defense_roll[-2] + modifiers['defense2']), 6)\n",
    "        \n",
    "        if modified_attack_roll2 > modified_defense_roll2:\n",
    "            defenders_killed += 1\n",
    "        else:\n",
    "            attackers_killed += 1\n",
    "        \n",
    "    n_attackers_remaining = n_attackers - attackers_killed\n",
    "    n_defenders_remaining = n_defenders - defenders_killed\n",
    "        \n",
    "    return n_attackers_remaining, n_defenders_remaining"
   ]
  },
  {
   "cell_type": "code",
   "execution_count": 8,
   "metadata": {},
   "outputs": [
    {
     "data": {
      "text/plain": [
       "(0, 2)"
      ]
     },
     "execution_count": 8,
     "metadata": {},
     "output_type": "execute_result"
    }
   ],
   "source": [
    "simulate_single_battle(2, 2)"
   ]
  },
  {
   "cell_type": "code",
   "execution_count": 9,
   "metadata": {},
   "outputs": [],
   "source": [
    "def simulate_n_battles(n_attackers, n_defenders, modifiers={'attack1':0, 'attack2':0, 'defense1':0, 'defense2':0},\n",
    "                       n_sims=10**4):\n",
    "    \n",
    "    wins = {'attacker':0, 'defender':0}\n",
    "    \n",
    "    for _ in range(n_sims):\n",
    "        n_attack = n_attackers\n",
    "        n_defend = n_defenders\n",
    "        \n",
    "        while n_attack > 0 and n_defend > 0:\n",
    "            n_attack, n_defend = simulate_single_battle(n_attack, n_defend, modifiers)\n",
    "\n",
    "        if n_attack > 0:\n",
    "            wins['attacker'] += 1\n",
    "        else:\n",
    "            wins['defender'] += 1\n",
    "    \n",
    "    return wins"
   ]
  },
  {
   "cell_type": "code",
   "execution_count": 10,
   "metadata": {},
   "outputs": [
    {
     "data": {
      "text/plain": [
       "{'attacker': 5194, 'defender': 4806}"
      ]
     },
     "execution_count": 10,
     "metadata": {},
     "output_type": "execute_result"
    }
   ],
   "source": [
    "simulate_n_battles(18, 20, n_sims=10**4)"
   ]
  },
  {
   "cell_type": "code",
   "execution_count": 259,
   "metadata": {},
   "outputs": [],
   "source": [
    "def simulate_battles_along_path(n_attackers, path, n_sims=10**4):\n",
    "    n_attackers_remaining = []\n",
    "    for _ in range(n_sims):\n",
    "        attacking_troops = n_attackers\n",
    "        for territory in path:\n",
    "            # You must leave one attacker behind if you intend to advance troops after victory.\n",
    "            if attacking_troops > 1:\n",
    "                attacking_troops -= 1\n",
    "\n",
    "            n_defenders = territory[0]\n",
    "            modifiers = territory[1]\n",
    "\n",
    "            while attacking_troops > 0 and n_defenders > 0:\n",
    "                attacking_troops, n_defenders = simulate_single_battle(attacking_troops, n_defenders, modifiers)\n",
    "\n",
    "        n_attackers_remaining.append(attacking_troops)\n",
    "\n",
    "    n_attackers_remaining = np.array(n_attackers_remaining)\n",
    "    return np.sum(n_attackers_remaining > 0)/n_sims"
   ]
  },
  {
   "cell_type": "code",
   "execution_count": 260,
   "metadata": {},
   "outputs": [],
   "source": [
    "n_attackers = 3\n",
    "default_modifiers = {'attack1':0, 'attack2':0, 'defense1':0, 'defense2':0}\n",
    "\n",
    "path = [[20, default_modifiers], [10, default_modifiers], [5, default_modifiers]]"
   ]
  },
  {
   "cell_type": "code",
   "execution_count": 266,
   "metadata": {},
   "outputs": [
    {
     "data": {
      "text/plain": [
       "0.505"
      ]
     },
     "execution_count": 266,
     "metadata": {},
     "output_type": "execute_result"
    }
   ],
   "source": [
    "simulate_battles_along_path(n_attackers=33, path=path, n_sims=10**3)"
   ]
  },
  {
   "cell_type": "code",
   "execution_count": 167,
   "metadata": {},
   "outputs": [],
   "source": [
    "n_attackers_remaining = []\n",
    "\n",
    "n_sims = 50000\n",
    "for _ in range(n_sims):\n",
    "    n_attackers = 50\n",
    "    for territory in path:\n",
    "        # You must leave one attacker behind if you intend to advance troops after victory.\n",
    "        if n_attackers > 1:\n",
    "            n_attackers -= 1\n",
    "            \n",
    "        n_defenders = territory[0]\n",
    "        modifiers = territory[1]\n",
    "\n",
    "        while n_attackers > 0 and n_defenders > 0:\n",
    "            n_attackers, n_defenders = simulate_single_battle(n_attackers, n_defenders, modifiers)\n",
    "    \n",
    "    n_attackers_remaining.append(n_attackers)\n",
    "    \n",
    "n_attackers_remaining = np.array(n_attackers_remaining)"
   ]
  },
  {
   "cell_type": "code",
   "execution_count": 168,
   "metadata": {},
   "outputs": [],
   "source": [
    "expected_troops_remaining = np.mean(n_attackers_remaining)\n",
    "win_percentage = np.sum(n_attackers_remaining > 0) / n_attackers_remaining.size"
   ]
  },
  {
   "cell_type": "code",
   "execution_count": 169,
   "metadata": {},
   "outputs": [
    {
     "data": {
      "text/plain": [
       "(17.88186, 0.96402)"
      ]
     },
     "execution_count": 169,
     "metadata": {},
     "output_type": "execute_result"
    }
   ],
   "source": [
    "expected_troops_remaining, win_percentage"
   ]
  },
  {
   "cell_type": "code",
   "execution_count": 170,
   "metadata": {},
   "outputs": [
    {
     "data": {
      "text/plain": [
       "array([ 2, 19,  0, ...,  0, 19, 30])"
      ]
     },
     "execution_count": 170,
     "metadata": {},
     "output_type": "execute_result"
    }
   ],
   "source": [
    "n_attackers_remaining"
   ]
  },
  {
   "cell_type": "code",
   "execution_count": 156,
   "metadata": {},
   "outputs": [
    {
     "data": {
      "image/png": "[encoded data removed]",
      "text/plain": [
       "<Figure size 432x288 with 1 Axes>"
      ]
     },
     "metadata": {},
     "output_type": "display_data"
    }
   ],
   "source": [
    "ax = sns.countplot(n_attackers_remaining)"
   ]
  },
  {
   "cell_type": "code",
   "execution_count": null,
   "metadata": {},
   "outputs": [],
   "source": []
  }
 ],
 "metadata": {
  "kernelspec": {
   "display_name": "Python [default]",
   "language": "python",
   "name": "python3"
  },
  "language_info": {
   "codemirror_mode": {
    "name": "ipython",
    "version": 3
   },
   "file_extension": ".py",
   "mimetype": "text/x-python",
   "name": "python",
   "nbconvert_exporter": "python",
   "pygments_lexer": "ipython3",
   "version": "3.6.6"
  }
 },
 "nbformat": 4,
 "nbformat_minor": 2
}
